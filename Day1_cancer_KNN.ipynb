{
 "cells": [
  {
   "cell_type": "code",
   "execution_count": 1,
   "id": "7791de2e",
   "metadata": {},
   "outputs": [
    {
     "data": {
      "text/plain": [
       "'\\n데이터의 분포가 불균형 할 때, KNN은 거리를 계산하는 머신러닝 알고리즘 이기에\\n길쭉한 형태의 데이터 분포는 좋지 않다.\\n따라서 데이터 표준화 작업을 해줘야 한다.\\n표준화 방법에는 2가지가 있다.\\n1. StandardScaler (z-score normalization)\\n2. MinMaxScaler\\n\\n적용 순서는\\n데이터 읽음 -> 표준화 -> train/test set split -> 학습 -> 평가\\n'"
      ]
     },
     "execution_count": 1,
     "metadata": {},
     "output_type": "execute_result"
    }
   ],
   "source": [
    "\"\"\"\n",
    "데이터의 분포가 불균형 할 때, KNN은 거리를 계산하는 머신러닝 알고리즘 이기에\n",
    "길쭉한 형태의 데이터 분포는 좋지 않다.\n",
    "따라서 데이터 표준화 작업을 해줘야 한다.\n",
    "표준화 방법에는 2가지가 있다.\n",
    "1. StandardScaler (z-score normalization)\n",
    "2. MinMaxScaler\n",
    "\n",
    "적용 순서는\n",
    "데이터 읽음 -> 표준화 -> train/test set split -> 학습 -> 평가\n",
    "\"\"\""
   ]
  },
  {
   "cell_type": "code",
   "execution_count": 1,
   "id": "9694bde5",
   "metadata": {},
   "outputs": [],
   "source": [
    "#패키지 불러오기 \n",
    "import matplotlib.pyplot as plt\n",
    "import numpy as np\n",
    "from sklearn.datasets import load_breast_cancer\n",
    "from sklearn.model_selection import train_test_split\n",
    "from sklearn.neighbors import KNeighborsClassifier\n",
    "from sklearn.preprocessing import StandardScaler\n",
    "from sklearn.preprocessing import MinMaxScaler"
   ]
  },
  {
   "cell_type": "code",
   "execution_count": 5,
   "id": "5eab99db",
   "metadata": {},
   "outputs": [
    {
     "data": {
      "text/plain": [
       "array([[1.799e+01, 1.038e+01, 1.228e+02, ..., 2.654e-01, 4.601e-01,\n",
       "        1.189e-01],\n",
       "       [2.057e+01, 1.777e+01, 1.329e+02, ..., 1.860e-01, 2.750e-01,\n",
       "        8.902e-02],\n",
       "       [1.969e+01, 2.125e+01, 1.300e+02, ..., 2.430e-01, 3.613e-01,\n",
       "        8.758e-02],\n",
       "       ...,\n",
       "       [1.660e+01, 2.808e+01, 1.083e+02, ..., 1.418e-01, 2.218e-01,\n",
       "        7.820e-02],\n",
       "       [2.060e+01, 2.933e+01, 1.401e+02, ..., 2.650e-01, 4.087e-01,\n",
       "        1.240e-01],\n",
       "       [7.760e+00, 2.454e+01, 4.792e+01, ..., 0.000e+00, 2.871e-01,\n",
       "        7.039e-02]])"
      ]
     },
     "execution_count": 5,
     "metadata": {},
     "output_type": "execute_result"
    }
   ],
   "source": [
    "cancer=load_breast_cancer()\n",
    "cancer['data']"
   ]
  },
  {
   "cell_type": "code",
   "execution_count": 4,
   "id": "c0b471fc",
   "metadata": {},
   "outputs": [],
   "source": [
    "# scaler 초기화 및 적용\n",
    "scaler_mm = MinMaxScaler()\n",
    "scaler_ss = StandardScaler()\n",
    "\n",
    "z_mm = scaler_mm.fit_transform(cancer['data'])\n",
    "z_ss = scaler_ss.fit_transform(cancer['data'])"
   ]
  },
  {
   "cell_type": "code",
   "execution_count": 11,
   "id": "9d4a92ef",
   "metadata": {},
   "outputs": [
    {
     "data": {
      "text/plain": [
       "KNeighborsClassifier(n_neighbors=10)"
      ]
     },
     "execution_count": 11,
     "metadata": {},
     "output_type": "execute_result"
    }
   ],
   "source": [
    "# Train / Test 데이터 세트 분할\n",
    "# train_test_split은 랜덤하게 데이터를 섞은 후 split 한다.\n",
    "trainX, testX, trainY, testY = train_test_split(z_ss, cancer['target'], test_size = 0.2)\n",
    "\n",
    "# KNN 으로 Train 데이터 세트를 학습한다.\n",
    "# n_neighbors = k 군집 개수, p = minkowski의 m 을 의미 1 : 유클리디안 거리 / 2 : \n",
    "\n",
    "knn = KNeighborsClassifier(n_neighbors=10, p=2, metric='minkowski')\n",
    "knn.fit(trainX,trainY)"
   ]
  },
  {
   "cell_type": "code",
   "execution_count": 12,
   "id": "f1d5a0d3",
   "metadata": {},
   "outputs": [
    {
     "name": "stdout",
     "output_type": "stream",
     "text": [
      "* 시험용 데이터로 측정확 정확도 = 0.98\n"
     ]
    }
   ],
   "source": [
    "# Test 세트와 Feature에 대한 class를 추정하고, 정확도를 계산한다\n",
    "# accuracy = knn.score(testX, testY) 동일\n",
    "predY = knn.predict(testX) # 테스트 데이터 예측값\n",
    "accuracy = (testY == predY).mean() # 정확도\n",
    "\n",
    "print(\"* 시험용 데이터로 측정확 정확도 = %.2f\"%accuracy)"
   ]
  },
  {
   "cell_type": "code",
   "execution_count": 10,
   "id": "16f18e3e",
   "metadata": {},
   "outputs": [
    {
     "data": {
      "image/png": "[encoded data removed]",
      "text/plain": [
       "<Figure size 576x360 with 1 Axes>"
      ]
     },
     "metadata": {
      "needs_background": "light"
     },
     "output_type": "display_data"
    }
   ],
   "source": [
    "# k갑을 변경해 가면서 정확도를 측정해 본다.\n",
    "testAcc = []\n",
    "trainAcc = []\n",
    "\n",
    "for k in range(1,50):\n",
    "    # knn 으로 Train 데이터 세드 학습\n",
    "    knn = KNeighborsClassifier(n_neighbors = k , p = 2, metric='minkowski')\n",
    "    knn.fit(trainX, trainY)\n",
    "    \n",
    "    # Test 데이터 세트의 Feature에 대한 정확도\n",
    "    predY = knn.predict(testX)\n",
    "    testAcc.append((testY == predY).sum() / len(predY))\n",
    "    \n",
    "    # Train 데이터 세트의 Feature에 대한 정확도\n",
    "    predY = knn.predict(trainX)\n",
    "    trainAcc.append((trainY == predY).sum() / len(predY))\n",
    "    \n",
    "plt.figure(figsize=(8,5))\n",
    "plt.plot(testAcc, label = \"Test Data\")\n",
    "plt.plot(trainAcc, label = \"train Data\")\n",
    "plt.legend()\n",
    "plt.xlabel(\"k\")\n",
    "plt.ylabel(\"Accuracy\")\n",
    "plt.show()"
   ]
  },
  {
   "cell_type": "code",
   "execution_count": null,
   "id": "33e56ad8",
   "metadata": {},
   "outputs": [],
   "source": []
  }
 ],
 "metadata": {
  "kernelspec": {
   "display_name": "Python 3 (ipykernel)",
   "language": "python",
   "name": "python3"
  },
  "language_info": {
   "codemirror_mode": {
    "name": "ipython",
    "version": 3
   },
   "file_extension": ".py",
   "mimetype": "text/x-python",
   "name": "python",
   "nbconvert_exporter": "python",
   "pygments_lexer": "ipython3",
   "version": "3.8.12"
  }
 },
 "nbformat": 4,
 "nbformat_minor": 5
}
