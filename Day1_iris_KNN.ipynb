{
 "cells": [
  {
   "cell_type": "code",
   "execution_count": 1,
   "id": "830260e0",
   "metadata": {},
   "outputs": [],
   "source": [
    "import matplotlib.pyplot as plt\n",
    "from sklearn.datasets import load_iris\n",
    "from sklearn.model_selection import train_test_split\n",
    "from sklearn.neighbors import KNeighborsClassifier"
   ]
  },
  {
   "cell_type": "code",
   "execution_count": 2,
   "id": "d355ee1b",
   "metadata": {},
   "outputs": [],
   "source": [
    "# 데이터 불러오기 \n",
    "iris = load_iris()\n",
    "\n",
    "# 데이터 세트 나누기\n",
    "trainX, testX, trainY, testY = train_test_split(iris['data'], iris['target'], test_size = 0.2)"
   ]
  },
  {
   "cell_type": "code",
   "execution_count": 3,
   "id": "70b99b20",
   "metadata": {},
   "outputs": [
    {
     "data": {
      "text/plain": [
       "KNeighborsClassifier()"
      ]
     },
     "execution_count": 3,
     "metadata": {},
     "output_type": "execute_result"
    }
   ],
   "source": [
    "# KNN 으로 학습용 데이터 학습한다\n",
    "knn = KNeighborsClassifier(n_neighbors = 5, p=2, metric=\"minkowski\")\n",
    "knn.fit(trainX, trainY)"
   ]
  },
  {
   "cell_type": "code",
   "execution_count": 4,
   "id": "9c993a08",
   "metadata": {},
   "outputs": [
    {
     "name": "stdout",
     "output_type": "stream",
     "text": [
      "\n",
      "* 시험용 데이터로 측정한 정확도 = 0.97\n"
     ]
    }
   ],
   "source": [
    "# Test 세트의 Feature에 대한 class를 추정하고, 정확도를 계산한다\n",
    "# accuracy = knn.score(testX, testY)와 동일함.\n",
    "predY = knn.predict(testX) # 테스트셋을 이용한 예측값 \n",
    "accuracy = (testY == predY).mean() # 정확도\n",
    "print()\n",
    "print(\"* 시험용 데이터로 측정한 정확도 = %.2f\" % accuracy)"
   ]
  },
  {
   "cell_type": "code",
   "execution_count": 5,
   "id": "e2fab578",
   "metadata": {},
   "outputs": [
    {
     "name": "stdout",
     "output_type": "stream",
     "text": [
      "* 학습용 데이터로 측정한 정확도 = 0.97\n"
     ]
    }
   ],
   "source": [
    "# Train 세트의 Feature에 대한 class를 추정하고, 정확도를 계산한다\n",
    "predY = knn.predict(trainX) # 학습한 데이터로 평가 (x), 일반적으로 사용 x\n",
    "accuracy = (trainY == predY).mean()\n",
    "print(\"* 학습용 데이터로 측정한 정확도 = %.2f\" % accuracy)"
   ]
  },
  {
   "cell_type": "code",
   "execution_count": 6,
   "id": "fee82f70",
   "metadata": {},
   "outputs": [
    {
     "data": {
      "image/png": "[encoded data removed]",
      "text/plain": [
       "<Figure size 576x360 with 1 Axes>"
      ]
     },
     "metadata": {
      "needs_background": "light"
     },
     "output_type": "display_data"
    }
   ],
   "source": [
    "# k를 변화시켜가면서 정확도를 측정해 본다\n",
    "testAcc = []\n",
    "trainAcc = []\n",
    "for k in range(1, 50):\n",
    "    # KNN 으로 Train 데이터 세트를 학습한다.\n",
    "    knn = KNeighborsClassifier(n_neighbors=k, p=2, metric='minkowski')\n",
    "    knn.fit(trainX, trainY)\n",
    "    \n",
    "    # Test 세트의 Feature에 대한 정확도\n",
    "    predY = knn.predict(testX)\n",
    "    testAcc.append((testY == predY).sum() / len(predY))\n",
    "    \n",
    "    # Train 세트의 Feature에 대한 정확도\n",
    "    predY = knn.predict(trainX)\n",
    "    trainAcc.append((trainY == predY).sum() / len(predY))\n",
    "\n",
    "plt.figure(figsize=(8, 5))\n",
    "plt.plot(testAcc, label=\"Test Data\")\n",
    "plt.plot(trainAcc, label=\"Train Data\")\n",
    "plt.legend()\n",
    "plt.xlabel(\"k\")\n",
    "plt.ylabel(\"Accuracy\")\n",
    "plt.show()"
   ]
  },
  {
   "cell_type": "code",
   "execution_count": null,
   "id": "91addfdd",
   "metadata": {},
   "outputs": [],
   "source": []
  }
 ],
 "metadata": {
  "kernelspec": {
   "display_name": "Python 3 (ipykernel)",
   "language": "python",
   "name": "python3"
  },
  "language_info": {
   "codemirror_mode": {
    "name": "ipython",
    "version": 3
   },
   "file_extension": ".py",
   "mimetype": "text/x-python",
   "name": "python",
   "nbconvert_exporter": "python",
   "pygments_lexer": "ipython3",
   "version": "3.8.12"
  }
 },
 "nbformat": 4,
 "nbformat_minor": 5
}
